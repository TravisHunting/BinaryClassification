{
  "nbformat": 4,
  "nbformat_minor": 0,
  "metadata": {
    "colab": {
      "name": "DenseBinaryClassifier2.ipynb",
      "provenance": [],
      "collapsed_sections": [],
      "authorship_tag": "ABX9TyP6RzX0+AGnndHG7DMh10fa",
      "include_colab_link": true
    },
    "kernelspec": {
      "name": "python3",
      "display_name": "Python 3"
    }
  },
  "cells": [
    {
      "cell_type": "markdown",
      "metadata": {
        "id": "view-in-github",
        "colab_type": "text"
      },
      "source": [
        "<a href=\"https://colab.research.google.com/github/TravisHunting/BinaryClassification/blob/master/DenseBinaryClassifier2.ipynb\" target=\"_parent\"><img src=\"https://colab.research.google.com/assets/colab-badge.svg\" alt=\"Open In Colab\"/></a>"
      ]
    },
    {
      "cell_type": "markdown",
      "metadata": {
        "id": "dmsSE-8gbA3_"
      },
      "source": [
        "**IMPORTANT**\n",
        "\n",
        "To use the checkpoint file trained on 75000 mugshots and 75000 celebrity images, run only the steps that start with **\"[CHECKPOINT#]\"**"
      ]
    },
    {
      "cell_type": "markdown",
      "metadata": {
        "id": "xoMWk5AuZUqc"
      },
      "source": [
        "Download test data (do not bother with this step if you are downloading the checkpoint)"
      ]
    },
    {
      "cell_type": "code",
      "metadata": {
        "id": "Q_sV2_GOjJfc"
      },
      "source": [
        "!wget --no-check-certificate \\\n",
        "    https://github.com/TravisHunting/BinaryClassification/blob/master/train.zip?raw=true \\\n",
        "    -O /tmp/train.zip"
      ],
      "execution_count": null,
      "outputs": []
    },
    {
      "cell_type": "markdown",
      "metadata": {
        "id": "-tEteE8-YQI7"
      },
      "source": [
        "**[CHECKPOINT1]** Download the checkpoint"
      ]
    },
    {
      "cell_type": "code",
      "metadata": {
        "id": "7o74NAIHMY7F",
        "outputId": "343b8d2f-0fde-422a-a1f9-ea4718c03d91",
        "colab": {
          "base_uri": "https://localhost:8080/",
          "height": 123
        }
      },
      "source": [
        "!mkdir /tmp/save\n",
        "#!pip install gdown\n",
        "!gdown https://drive.google.com/uc?id=1YLxZsnUOEVBzKv66mou5PmtI_Td0NOn9   #download checkpoint"
      ],
      "execution_count": null,
      "outputs": [
        {
          "output_type": "stream",
          "text": [
            "mkdir: cannot create directory ‘/tmp/save’: File exists\n",
            "Downloading...\n",
            "From: https://drive.google.com/uc?id=1YLxZsnUOEVBzKv66mou5PmtI_Td0NOn9\n",
            "To: /content/checkpoint.zip\n",
            "85.6MB [00:00, 88.6MB/s]\n"
          ],
          "name": "stdout"
        }
      ]
    },
    {
      "cell_type": "markdown",
      "metadata": {
        "id": "4jE66cCoYLhW"
      },
      "source": [
        "**[CHECKPOINT2]** Unzip the checkpoint (If you download and use the checkpoint you don't need to train the model or load test data)"
      ]
    },
    {
      "cell_type": "code",
      "metadata": {
        "id": "fkCamhZAXzSW"
      },
      "source": [
        "import os\n",
        "import zipfile\n",
        "\n",
        "local_zip = '/content/checkpoint.zip'\n",
        "zip_ref = zipfile.ZipFile(local_zip, 'r')\n",
        "zip_ref.extractall('/tmp/save')\n",
        "\n",
        "zip_ref.close()"
      ],
      "execution_count": null,
      "outputs": []
    },
    {
      "cell_type": "markdown",
      "metadata": {
        "id": "qHqyboJ0YaYS"
      },
      "source": [
        "Unzip test data (once again, skip if using the checkpoint)"
      ]
    },
    {
      "cell_type": "code",
      "metadata": {
        "id": "Kq1yCbMYkV8I"
      },
      "source": [
        "import os\n",
        "import zipfile\n",
        "\n",
        "local_zip = '/tmp/train.zip'\n",
        "zip_ref = zipfile.ZipFile(local_zip, 'r')\n",
        "zip_ref.extractall('/tmp')\n",
        "\n",
        "zip_ref.close()\n"
      ],
      "execution_count": null,
      "outputs": []
    },
    {
      "cell_type": "markdown",
      "metadata": {
        "id": "Knqfn_MhYg_I"
      },
      "source": [
        "Split test data into validation/test splits and create file lists (skip if using checkpoint)"
      ]
    },
    {
      "cell_type": "code",
      "metadata": {
        "id": "gAlFvu7mQDTP"
      },
      "source": [
        "import shutil\n",
        "import random\n",
        "\n",
        "!mkdir /tmp/valid\n",
        "!mkdir /tmp/valid/mugshots\n",
        "!mkdir /tmp/valid/celebrities\n",
        "\n",
        "# Directory with our training mugshots\n",
        "train_mugshots_dir = os.path.join('/tmp/train/mugshots')\n",
        "train_mugshots_names = os.listdir(train_mugshots_dir)\n",
        "\n",
        "# Directory with our training celeb pictures\n",
        "train_celebrities_dir = os.path.join('/tmp/train/celebrities')\n",
        "train_celebrities_names = os.listdir(train_celebrities_dir)\n",
        "\n",
        "# Directory with our validation mugshots\n",
        "valid_mugshots_dir = os.path.join('/tmp/valid/mugshots')\n",
        "\n",
        "# Directory with our validation celeb pictures\n",
        "valid_celebrities_dir = os.path.join('/tmp/valid/celebrities')\n",
        "\n",
        "print(train_mugshots_names)\n",
        "\n",
        "mugshot_val = random.sample(train_mugshots_names, 10000)  #select validation images randomly from test images\n",
        "celeb_val = random.sample(train_celebrities_names, 10000) #select validation images randomly from test images\n",
        "\n",
        "for f in mugshot_val:\n",
        "    shutil.move(train_mugshots_dir+'/'+f, valid_mugshots_dir)\n",
        "\n",
        "for f in celeb_val:\n",
        "    shutil.move(train_celebrities_dir+'/'+f, valid_celebrities_dir)\n",
        "\n",
        "validation_mugshots_names = os.listdir(valid_mugshots_dir)\n",
        "print(validation_mugshots_names)\n",
        "\n",
        "validation_celebrities_names = os.listdir(valid_celebrities_dir)\n",
        "print(validation_celebrities_names)\n"
      ],
      "execution_count": null,
      "outputs": []
    },
    {
      "cell_type": "markdown",
      "metadata": {
        "id": "jRIeOeRYZopH"
      },
      "source": [
        "Print out some information about training and validation data"
      ]
    },
    {
      "cell_type": "code",
      "metadata": {
        "id": "6rXnRXOCmzjl"
      },
      "source": [
        "print('total training mugshot images:', len(os.listdir(train_mugshots_dir)))\n",
        "print('total training celeb images:', len(os.listdir(train_celebrities_dir)))\n",
        "print('total validation mugshot images:', len(os.listdir(valid_mugshots_dir)))\n",
        "print('total validation celeb images:', len(os.listdir(valid_celebrities_dir)))"
      ],
      "execution_count": null,
      "outputs": []
    },
    {
      "cell_type": "markdown",
      "metadata": {
        "id": "UA9rDmr5Z0v3"
      },
      "source": [
        "**[CHECKPOINT3]** **Run this regardless of checkpoint usage.** Import plt"
      ]
    },
    {
      "cell_type": "code",
      "metadata": {
        "id": "NIRd4QwSnCCO"
      },
      "source": [
        "%matplotlib inline\n",
        "\n",
        "import matplotlib.pyplot as plt\n",
        "import matplotlib.image as mpimg\n"
      ],
      "execution_count": null,
      "outputs": []
    },
    {
      "cell_type": "markdown",
      "metadata": {
        "id": "Pk9A2VPAZ6Sn"
      },
      "source": [
        "Display some of the test data"
      ]
    },
    {
      "cell_type": "code",
      "metadata": {
        "id": "vT1Ut3Whn7Bc"
      },
      "source": [
        "# Parameters for our graph; we'll output images in a 4x4 configuration\n",
        "nrows = 4\n",
        "ncols = 4\n",
        "\n",
        "# Index for iterating over images\n",
        "pic_index = 0\n",
        "\n",
        "# Set up matplotlib fig, and size it to fit 4x4 pics\n",
        "fig = plt.gcf()\n",
        "fig.set_size_inches(ncols * 4, nrows * 4)\n",
        "\n",
        "pic_index += 8\n",
        "next_mugshots_pic = [os.path.join(train_mugshots_dir, fname) \n",
        "                for fname in train_mugshots_names[pic_index-8:pic_index]]\n",
        "next_celebrities_pic = [os.path.join(train_celebrities_dir, fname) \n",
        "                for fname in train_celebrities_names[pic_index-8:pic_index]]\n",
        "\n",
        "for i, img_path in enumerate(next_mugshots_pic + next_celebrities_pic):\n",
        "  # Set up subplot; subplot indices start at 1\n",
        "  sp = plt.subplot(nrows, ncols, i + 1)\n",
        "  sp.axis('Off') # Don't show axes (or gridlines)\n",
        "\n",
        "  img = mpimg.imread(img_path)\n",
        "  plt.imshow(img)\n",
        "\n",
        "plt.show()"
      ],
      "execution_count": null,
      "outputs": []
    },
    {
      "cell_type": "markdown",
      "metadata": {
        "id": "o5ZXii_Pb5pg"
      },
      "source": [
        "Extract data from your image sets"
      ]
    },
    {
      "cell_type": "code",
      "metadata": {
        "id": "Su_0cqfjoy7i"
      },
      "source": [
        "from tensorflow.keras.preprocessing.image import ImageDataGenerator\n",
        "\n",
        "# All images will be rescaled by 1./255\n",
        "train_datagen = ImageDataGenerator(rescale=1/255)\n",
        "validation_datagen = ImageDataGenerator(rescale=1/255)\n",
        "\n",
        "# Flow training images in batches of 120 using train_datagen generator\n",
        "train_generator = train_datagen.flow_from_directory(\n",
        "        '/tmp/train/',  # This is the source directory for training images\n",
        "        classes = ['mugshots', 'celebrities'],\n",
        "        target_size=(100, 100),  # All images will be resized to 100x100\n",
        "        batch_size=120,\n",
        "        # Use binary labels\n",
        "        class_mode='binary')\n",
        "\n",
        "# Flow validation images in batches of 19 using valid_datagen generator\n",
        "validation_generator = validation_datagen.flow_from_directory(\n",
        "        '/tmp/valid/',  # This is the source directory for training images\n",
        "        classes = ['mugshots', 'celebrities'],\n",
        "        target_size=(100, 100),  # All images will be resized to 100x100\n",
        "        batch_size=19,\n",
        "        # Use binary labels\n",
        "        class_mode='binary',\n",
        "        shuffle=False)"
      ],
      "execution_count": null,
      "outputs": []
    },
    {
      "cell_type": "markdown",
      "metadata": {
        "id": "zJ5DA5O6cBWA"
      },
      "source": [
        "**[CHECKPOINT4]** **Run this regardless of checkpoint usage.** Import the various things you need to create the model."
      ]
    },
    {
      "cell_type": "code",
      "metadata": {
        "id": "Vcm2qNtRpSRV"
      },
      "source": [
        "import tensorflow as tf\n",
        "import numpy as np\n",
        "from itertools import cycle\n",
        "\n",
        "from sklearn import svm, datasets\n",
        "from sklearn.metrics import roc_curve, auc\n",
        "from sklearn.model_selection import train_test_split\n",
        "from sklearn.preprocessing import label_binarize\n",
        "from sklearn.multiclass import OneVsRestClassifier\n",
        "from scipy import interp\n",
        "from sklearn.metrics import roc_auc_score"
      ],
      "execution_count": null,
      "outputs": []
    },
    {
      "cell_type": "markdown",
      "metadata": {
        "id": "JOHdVZ1lcvc6"
      },
      "source": [
        "**[CHECKPOINT5]** **Run this regardless of checkpoint usage.** Define the model.\n",
        "\n",
        "If using the checkpoint, model must be\n",
        "\n",
        "model = tf.keras.models.Sequential([tf.keras.layers.Flatten(input_shape = (100,100,3)), \n",
        "                                    tf.keras.layers.Dense(256, activation=tf.nn.relu),\n",
        "                                    tf.keras.layers.Dense(128, activation=tf.nn.relu), \n",
        "                                    tf.keras.layers.Dense(1, activation=tf.nn.sigmoid)])"
      ]
    },
    {
      "cell_type": "code",
      "metadata": {
        "id": "xGQ2AAD4p6ur"
      },
      "source": [
        "model = tf.keras.models.Sequential([tf.keras.layers.Flatten(input_shape = (100,100,3)), \n",
        "                                    tf.keras.layers.Dense(256, activation=tf.nn.relu),\n",
        "                                    tf.keras.layers.Dense(128, activation=tf.nn.relu), \n",
        "                                    tf.keras.layers.Dense(1, activation=tf.nn.sigmoid)])"
      ],
      "execution_count": null,
      "outputs": []
    },
    {
      "cell_type": "markdown",
      "metadata": {
        "id": "h8lTjgBUdAeU"
      },
      "source": [
        "**Optional.** Display some info about the model."
      ]
    },
    {
      "cell_type": "code",
      "metadata": {
        "id": "Ol2Wa7B7qDnS"
      },
      "source": [
        "model.summary()"
      ],
      "execution_count": null,
      "outputs": []
    },
    {
      "cell_type": "markdown",
      "metadata": {
        "id": "psu53duJdDHA"
      },
      "source": [
        "**[CHECKPOINT6]** **Run this regardless of checkpoint usage.** Compile the model."
      ]
    },
    {
      "cell_type": "code",
      "metadata": {
        "id": "oPZSA99uqhBV"
      },
      "source": [
        "model.compile(optimizer = tf.optimizers.Adam(),\n",
        "              loss = 'binary_crossentropy',\n",
        "              metrics=['accuracy'])"
      ],
      "execution_count": null,
      "outputs": []
    },
    {
      "cell_type": "markdown",
      "metadata": {
        "id": "BaOXJ-jMYq7p"
      },
      "source": [
        "**[CHECKPOINT7]** Load the checkpoint that was downloaded earlier"
      ]
    },
    {
      "cell_type": "code",
      "metadata": {
        "id": "Yrm0pn0jtF_E"
      },
      "source": [
        "model.load_weights('/tmp/save/my_checkpoint')  #If you have a saved TF checkpoint, load it here and skip training below"
      ],
      "execution_count": null,
      "outputs": []
    },
    {
      "cell_type": "markdown",
      "metadata": {
        "id": "8Usgm7vXZEFy"
      },
      "source": [
        "Train and evaluate the model (skip if using checkpoint file)"
      ]
    },
    {
      "cell_type": "code",
      "metadata": {
        "id": "dMcD-RqOrQEb"
      },
      "source": [
        "history = model.fit(train_generator,\n",
        "      steps_per_epoch=8,  \n",
        "      epochs=15,\n",
        "      verbose=1,\n",
        "      validation_data = validation_generator,\n",
        "      validation_steps=8)"
      ],
      "execution_count": null,
      "outputs": []
    },
    {
      "cell_type": "code",
      "metadata": {
        "id": "12trjdE4rT58"
      },
      "source": [
        "model.evaluate(validation_generator)"
      ],
      "execution_count": null,
      "outputs": []
    },
    {
      "cell_type": "code",
      "metadata": {
        "id": "AigZxIaGrWvt"
      },
      "source": [
        "STEP_SIZE_TEST=validation_generator.n//validation_generator.batch_size\n",
        "validation_generator.reset()\n",
        "preds = model.predict(validation_generator,\n",
        "                      verbose=1)"
      ],
      "execution_count": null,
      "outputs": []
    },
    {
      "cell_type": "code",
      "metadata": {
        "id": "VTRt3AyRraa0"
      },
      "source": [
        "fpr, tpr, _ = roc_curve(validation_generator.classes, preds)"
      ],
      "execution_count": null,
      "outputs": []
    },
    {
      "cell_type": "code",
      "metadata": {
        "id": "oRTsyjjyrcXQ"
      },
      "source": [
        "roc_auc = auc(fpr, tpr)"
      ],
      "execution_count": null,
      "outputs": []
    },
    {
      "cell_type": "code",
      "metadata": {
        "id": "YPOONgturdE6"
      },
      "source": [
        "plt.figure()\n",
        "lw = 2\n",
        "plt.plot(fpr, tpr, color='darkorange',\n",
        "         lw=lw, label='ROC curve (area = %0.2f)' % roc_auc)\n",
        "plt.plot([0, 1], [0, 1], color='navy', lw=lw, linestyle='--')\n",
        "plt.xlim([0.0, 1.0])\n",
        "plt.ylim([0.0, 1.05])\n",
        "plt.xlabel('False Positive Rate')\n",
        "plt.ylabel('True Positive Rate')\n",
        "plt.title('Receiver Operating Characteristic')\n",
        "plt.legend(loc=\"lower right\")\n",
        "plt.show()"
      ],
      "execution_count": null,
      "outputs": []
    },
    {
      "cell_type": "markdown",
      "metadata": {
        "id": "Oj6mwJGldkfc"
      },
      "source": [
        "**[CHECKPOINT8]** **Run this regardless of checkpoint usage.** Upload your own images and find out whether you look more like a celebrity, or more like a criminal. Run as many times as you like. After clicking \"Run\" scroll down a bit to use the \"upload files\" box. If no faces are detected, the image will be skipped. If faces are detected, each face will be pulled out and evaluated separately."
      ]
    },
    {
      "cell_type": "code",
      "metadata": {
        "id": "MpJlcPRQoQoX",
        "outputId": "385a2e3c-7eb9-40ca-f239-7ef1bb7ec821",
        "colab": {
          "resources": {
            "http://localhost:8080/nbextensions/google.colab/files.js": {
              "data": "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",
              "ok": true,
              "headers": [
                [
                  "content-type",
                  "application/javascript"
                ]
              ],
              "status": 200,
              "status_text": ""
            }
          },
          "base_uri": "https://localhost:8080/",
          "height": 390
        }
      },
      "source": [
        "#!mkdir uploads \n",
        " \n",
        "%matplotlib inline\n",
        "import matplotlib.pyplot as plt\n",
        "import numpy as np\n",
        "from google.colab import files\n",
        "from keras.preprocessing import image\n",
        "import cv2\n",
        "import requests\n",
        "from PIL import Image\n",
        "from IPython.display import display\n",
        "from google.colab.patches import cv2_imshow\n",
        " \n",
        "face_grab = requests.get('https://raw.githubusercontent.com/opencv/opencv/master/data/haarcascades/haarcascade_frontalface_default.xml')\n",
        " \n",
        "with open('haar_cascade.xml', 'wb') as f:   #uncomment this section the first time you run the colab notebook to download the haarcascade\n",
        "  f.write(face_grab.content)\n",
        " \n",
        "face_cascade = cv2.CascadeClassifier('/content/haar_cascade.xml')\n",
        " \n",
        "uploaded = files.upload()\n",
        "#print(uploaded.keys())\n",
        "print()\n",
        " \n",
        "for fn in uploaded.keys(): \n",
        " \n",
        "  path = '/content/' + fn\n",
        "  path2 = '/content/uploads/'\n",
        "  img = cv2.imread(path)\n",
        "  faces = face_cascade.detectMultiScale(img, scaleFactor=1.1, minNeighbors=4) \n",
        "  #Lower scaleFactor for more detailed searching, Raise minNeighbors for more selective searching. \n",
        "  #Do the opposite for easier face detection (can cause false positives)\n",
        "  image1 = Image.open(path)\n",
        " \n",
        "  if len(faces) == 0:\n",
        "    print(fn)\n",
        "    print('No faces detected.')\n",
        "    continue\n",
        " \n",
        "  if len(faces) >= 1:\n",
        "    print(\"Number of faces detected: \",len(faces))\n",
        "    print()\n",
        "    face_list = []\n",
        "    \n",
        "    for (x,y,w,h) in faces:\n",
        "      image_res = image1.crop((x,y,x+w,y+h)) #crop the faces out of the image\n",
        "      face_list.append(image_res.resize((100,100)))  #resize each image of a face to 100x100 square and collect into a list\n",
        "    #print(type(image_res)) \n",
        "  \n",
        "  for img in face_list:\n",
        "    x = image.img_to_array(img)\n",
        "    #plt.imshow(x/255.)\n",
        "    x = np.expand_dims(x, axis=0)\n",
        "    images = np.vstack([x])\n",
        "    classes = model.predict(images, batch_size=10)\n",
        "    #print(\"classification value: \",classes[0])\n",
        "    if classes[0]<0.5:\n",
        "      print(fn + \"\\n You are a filthy criminal.\")\n",
        "    else:\n",
        "      print(fn + \"\\n You are a beautiful celebrity.\")\n",
        "    display(img)"
      ],
      "execution_count": 28,
      "outputs": [
        {
          "output_type": "display_data",
          "data": {
            "text/html": [
              "\n",
              "     <input type=\"file\" id=\"files-ee34dcc8-2538-4378-a07e-e5db2de2be38\" name=\"files[]\" multiple disabled\n",
              "        style=\"border:none\" />\n",
              "     <output id=\"result-ee34dcc8-2538-4378-a07e-e5db2de2be38\">\n",
              "      Upload widget is only available when the cell has been executed in the\n",
              "      current browser session. Please rerun this cell to enable.\n",
              "      </output>\n",
              "      <script src=\"/nbextensions/google.colab/files.js\"></script> "
            ],
            "text/plain": [
              "<IPython.core.display.HTML object>"
            ]
          },
          "metadata": {
            "tags": []
          }
        },
        {
          "output_type": "stream",
          "text": [
            "Saving 462.jpg to 462.jpg\n",
            "\n",
            "Number of faces detected:  2\n",
            "\n",
            "462.jpg\n",
            " You are a beautiful celebrity.\n"
          ],
          "name": "stdout"
        },
        {
          "output_type": "display_data",
          "data": {
            "image/png": "[encoded data removed]",
            "text/plain": [
              "<PIL.Image.Image image mode=RGB size=100x100 at 0x7F761CB2BBE0>"
            ]
          },
          "metadata": {
            "tags": []
          }
        },
        {
          "output_type": "stream",
          "text": [
            "462.jpg\n",
            " You are a filthy criminal.\n"
          ],
          "name": "stdout"
        },
        {
          "output_type": "display_data",
          "data": {
            "image/png": "[encoded data removed]",
            "text/plain": [
              "<PIL.Image.Image image mode=RGB size=100x100 at 0x7F761CABB3C8>"
            ]
          },
          "metadata": {
            "tags": []
          }
        }
      ]
    },
    {
      "cell_type": "markdown",
      "metadata": {
        "id": "j6-SC-J_h62v"
      },
      "source": [
        "The next code block will create a checkpoint for you if you have been training your own model."
      ]
    },
    {
      "cell_type": "code",
      "metadata": {
        "id": "RMnVntQUrtLa"
      },
      "source": [
        "!mkdir /tmp/save\n",
        "model.save_weights('/tmp/save/my_checkpoint') # Save the weights for your model so you don't have to train it next time"
      ],
      "execution_count": null,
      "outputs": []
    },
    {
      "cell_type": "markdown",
      "metadata": {
        "id": "YVwv-JthK6WF"
      },
      "source": [
        "Next code block kills the instance. Run when you are done if you feel like being subservient to your overlords at google."
      ]
    },
    {
      "cell_type": "code",
      "metadata": {
        "id": "kzIzafrcsw9F"
      },
      "source": [
        "import os, signal\n",
        "os.kill(os.getpid(), signal.SIGKILL)"
      ],
      "execution_count": null,
      "outputs": []
    }
  ]
}